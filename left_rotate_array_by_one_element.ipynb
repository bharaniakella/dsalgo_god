{
  "nbformat": 4,
  "nbformat_minor": 0,
  "metadata": {
    "colab": {
      "provenance": [],
      "authorship_tag": "ABX9TyMKglPRNEE8ImVlk3AhlhG7",
      "include_colab_link": true
    },
    "kernelspec": {
      "name": "python3",
      "display_name": "Python 3"
    },
    "language_info": {
      "name": "python"
    }
  },
  "cells": [
    {
      "cell_type": "markdown",
      "metadata": {
        "id": "view-in-github",
        "colab_type": "text"
      },
      "source": [
        "<a href=\"https://colab.research.google.com/github/bharaniakella/dsalgo_god/blob/main/left_rotate_array_by_one_element.ipynb\" target=\"_parent\"><img src=\"https://colab.research.google.com/assets/colab-badge.svg\" alt=\"Open In Colab\"/></a>"
      ]
    },
    {
      "cell_type": "code",
      "execution_count": 1,
      "metadata": {
        "id": "GpBkWdT1bmcm"
      },
      "outputs": [],
      "source": [
        "import numpy as np\n",
        "\n",
        "arr=np.array([1,2,3,4,5,6])\n",
        "\n",
        "def left_rotate(arr):\n",
        "  for i in range(len(arr)-1):\n",
        "    temp=arr[i]\n",
        "    arr[i]=arr[i+1]\n",
        "    arr[i+1]=temp\n",
        "  return arr"
      ]
    },
    {
      "cell_type": "code",
      "source": [
        "left_rotate(arr)"
      ],
      "metadata": {
        "colab": {
          "base_uri": "https://localhost:8080/"
        },
        "id": "f5tPVCqFcLVZ",
        "outputId": "b2c0932a-83c5-49eb-f895-a386cd695926"
      },
      "execution_count": 2,
      "outputs": [
        {
          "output_type": "execute_result",
          "data": {
            "text/plain": [
              "array([2, 3, 4, 5, 6, 1])"
            ]
          },
          "metadata": {},
          "execution_count": 2
        }
      ]
    },
    {
      "cell_type": "code",
      "source": [],
      "metadata": {
        "id": "21ZVVBxtcN2J"
      },
      "execution_count": null,
      "outputs": []
    }
  ]
}
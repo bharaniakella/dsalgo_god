{
  "nbformat": 4,
  "nbformat_minor": 0,
  "metadata": {
    "colab": {
      "provenance": [],
      "authorship_tag": "ABX9TyMe/RIBSeVBsB6GBtKHy364",
      "include_colab_link": true
    },
    "kernelspec": {
      "name": "python3",
      "display_name": "Python 3"
    },
    "language_info": {
      "name": "python"
    }
  },
  "cells": [
    {
      "cell_type": "markdown",
      "metadata": {
        "id": "view-in-github",
        "colab_type": "text"
      },
      "source": [
        "<a href=\"https://colab.research.google.com/github/bharaniakella/dsalgo_god/blob/main/sort_array_of_0_1_2.ipynb\" target=\"_parent\"><img src=\"https://colab.research.google.com/assets/colab-badge.svg\" alt=\"Open In Colab\"/></a>"
      ]
    },
    {
      "cell_type": "code",
      "execution_count": 5,
      "metadata": {
        "id": "u6B4MeQW-onC"
      },
      "outputs": [],
      "source": [
        "import numpy as np\n",
        "\n",
        "arr=np.array([2,0,2,1,1,0,0,0,1,2,2,2,2])\n",
        "\n",
        "def sort_0_1_2(arr):\n",
        "  count_zero=0\n",
        "  count_one=0\n",
        "  count_two=0\n",
        "\n",
        "  for i in range(len(arr)):\n",
        "    if(arr[i]==0):\n",
        "      count_zero=count_zero+1\n",
        "    elif(arr[i]==1):\n",
        "      count_one=count_one+1\n",
        "    elif(arr[i]==2):\n",
        "      count_two=count_two+1\n",
        "\n",
        "  for i in range(count_zero):\n",
        "    arr[i]=0\n",
        "  for i in range(count_zero,count_zero+count_one):\n",
        "    arr[i]=1\n",
        "  for i in range(count_zero+count_one,count_zero+count_one+count_two):\n",
        "    arr[i]=2\n",
        "\n",
        "  return arr"
      ]
    },
    {
      "cell_type": "code",
      "source": [
        "sort_0_1_2(arr)"
      ],
      "metadata": {
        "colab": {
          "base_uri": "https://localhost:8080/"
        },
        "id": "d_sZs5qL_y6q",
        "outputId": "3ec3b734-1795-4488-fda0-4fc846778258"
      },
      "execution_count": 6,
      "outputs": [
        {
          "output_type": "execute_result",
          "data": {
            "text/plain": [
              "array([0, 0, 0, 0, 1, 1, 1, 2, 2, 2, 2, 2, 2])"
            ]
          },
          "metadata": {},
          "execution_count": 6
        }
      ]
    },
    {
      "cell_type": "code",
      "source": [],
      "metadata": {
        "id": "j_s0wT0J_3JE"
      },
      "execution_count": null,
      "outputs": []
    }
  ]
}
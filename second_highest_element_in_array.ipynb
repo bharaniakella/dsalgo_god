{
  "nbformat": 4,
  "nbformat_minor": 0,
  "metadata": {
    "colab": {
      "provenance": [],
      "authorship_tag": "ABX9TyN1AJEKnBPqA2tlvPvGVcpl",
      "include_colab_link": true
    },
    "kernelspec": {
      "name": "python3",
      "display_name": "Python 3"
    },
    "language_info": {
      "name": "python"
    }
  },
  "cells": [
    {
      "cell_type": "markdown",
      "metadata": {
        "id": "view-in-github",
        "colab_type": "text"
      },
      "source": [
        "<a href=\"https://colab.research.google.com/github/bharaniakella/dsalgo_god/blob/main/second_highest_element_in_array.ipynb\" target=\"_parent\"><img src=\"https://colab.research.google.com/assets/colab-badge.svg\" alt=\"Open In Colab\"/></a>"
      ]
    },
    {
      "cell_type": "code",
      "execution_count": 1,
      "metadata": {
        "id": "b7eMOJI9ZNtS"
      },
      "outputs": [],
      "source": [
        "import numpy as np\n",
        "\n",
        "arr=np.array([4,7,9,8,6,5])\n",
        "\n",
        "def second_highest(arr):\n",
        "  max=0\n",
        "  sec_max=-1\n",
        "  for i in range(len(arr)):\n",
        "    if(arr[i]>arr[max]):\n",
        "      sec_max=max\n",
        "      max=i\n",
        "    elif(arr[i]>arr[sec_max]):\n",
        "      sec_max=i\n",
        "  return arr[sec_max]"
      ]
    },
    {
      "cell_type": "code",
      "source": [
        "second_highest(arr)"
      ],
      "metadata": {
        "colab": {
          "base_uri": "https://localhost:8080/"
        },
        "id": "KwfHl23tavTx",
        "outputId": "1e0c4985-e9db-476d-9547-931aab099814"
      },
      "execution_count": 2,
      "outputs": [
        {
          "output_type": "execute_result",
          "data": {
            "text/plain": [
              "8"
            ]
          },
          "metadata": {},
          "execution_count": 2
        }
      ]
    },
    {
      "cell_type": "code",
      "source": [],
      "metadata": {
        "id": "M-7fSM9UaxQG"
      },
      "execution_count": null,
      "outputs": []
    }
  ]
}
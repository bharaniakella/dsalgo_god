{
  "nbformat": 4,
  "nbformat_minor": 0,
  "metadata": {
    "colab": {
      "provenance": [],
      "authorship_tag": "ABX9TyPS3/yrUpRVbQ+T3JKiW7BN",
      "include_colab_link": true
    },
    "kernelspec": {
      "name": "python3",
      "display_name": "Python 3"
    },
    "language_info": {
      "name": "python"
    }
  },
  "cells": [
    {
      "cell_type": "markdown",
      "metadata": {
        "id": "view-in-github",
        "colab_type": "text"
      },
      "source": [
        "<a href=\"https://colab.research.google.com/github/bharaniakella/dsalgo_god/blob/main/floor.ipynb\" target=\"_parent\"><img src=\"https://colab.research.google.com/assets/colab-badge.svg\" alt=\"Open In Colab\"/></a>"
      ]
    },
    {
      "cell_type": "code",
      "execution_count": 1,
      "metadata": {
        "id": "2e6pPch4JXSH"
      },
      "outputs": [],
      "source": [
        "import numpy as np\n",
        "\n",
        "arr=np.array([3, 4, 4, 7, 8, 10])\n",
        "\n",
        "def floor(arr,target):\n",
        "  start=0\n",
        "  end=len(arr)-1\n",
        "  result=-1\n",
        "  while(start<=end):\n",
        "    mid=end-(end-start)//2\n",
        "    if(arr[mid]<=target):\n",
        "      result=arr[mid]\n",
        "      start=mid+1\n",
        "    else:\n",
        "      end=mid-1\n",
        "  return result"
      ]
    },
    {
      "cell_type": "code",
      "source": [
        "floor(arr,10)"
      ],
      "metadata": {
        "colab": {
          "base_uri": "https://localhost:8080/"
        },
        "id": "4QH3JzksJ52h",
        "outputId": "98345672-60eb-4959-c9c2-3ac576ba37f0"
      },
      "execution_count": 5,
      "outputs": [
        {
          "output_type": "execute_result",
          "data": {
            "text/plain": [
              "10"
            ]
          },
          "metadata": {},
          "execution_count": 5
        }
      ]
    },
    {
      "cell_type": "code",
      "source": [],
      "metadata": {
        "id": "zHITvAQVJ8SX"
      },
      "execution_count": null,
      "outputs": []
    }
  ]
}
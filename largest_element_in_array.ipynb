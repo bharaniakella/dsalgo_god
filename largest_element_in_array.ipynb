{
  "nbformat": 4,
  "nbformat_minor": 0,
  "metadata": {
    "colab": {
      "provenance": []
    },
    "kernelspec": {
      "name": "python3",
      "display_name": "Python 3"
    },
    "language_info": {
      "name": "python"
    }
  },
  "cells": [
    {
      "cell_type": "code",
      "execution_count": 1,
      "metadata": {
        "id": "zdXzk23xWc42"
      },
      "outputs": [],
      "source": [
        "import numpy as np\n",
        "\n",
        "arr=np.array([4,2,8,5,1])\n",
        "\n",
        "def find_max(arr):\n",
        "  max=arr[0]\n",
        "  for i in range(1,len(arr)):\n",
        "    if(arr[i]>max):\n",
        "      max=arr[i]\n",
        "\n",
        "  return max"
      ]
    },
    {
      "cell_type": "code",
      "source": [
        "find_max(arr)"
      ],
      "metadata": {
        "colab": {
          "base_uri": "https://localhost:8080/"
        },
        "id": "pyYERseGXCL_",
        "outputId": "d19f36f1-9fd8-40ff-e17f-5fcd7dbdc711"
      },
      "execution_count": 2,
      "outputs": [
        {
          "output_type": "execute_result",
          "data": {
            "text/plain": [
              "8"
            ]
          },
          "metadata": {},
          "execution_count": 2
        }
      ]
    },
    {
      "cell_type": "code",
      "source": [],
      "metadata": {
        "id": "YwzwC9IrXFwq"
      },
      "execution_count": null,
      "outputs": []
    }
  ]
}
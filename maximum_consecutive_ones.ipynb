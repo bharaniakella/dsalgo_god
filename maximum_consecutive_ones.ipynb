{
  "nbformat": 4,
  "nbformat_minor": 0,
  "metadata": {
    "colab": {
      "provenance": [],
      "authorship_tag": "ABX9TyMKY+RX/Ou+RebxBvG4qr0y",
      "include_colab_link": true
    },
    "kernelspec": {
      "name": "python3",
      "display_name": "Python 3"
    },
    "language_info": {
      "name": "python"
    }
  },
  "cells": [
    {
      "cell_type": "markdown",
      "metadata": {
        "id": "view-in-github",
        "colab_type": "text"
      },
      "source": [
        "<a href=\"https://colab.research.google.com/github/bharaniakella/dsalgo_god/blob/main/maximum_consecutive_ones.ipynb\" target=\"_parent\"><img src=\"https://colab.research.google.com/assets/colab-badge.svg\" alt=\"Open In Colab\"/></a>"
      ]
    },
    {
      "cell_type": "code",
      "execution_count": 3,
      "metadata": {
        "id": "OaPndt9R7Usm"
      },
      "outputs": [],
      "source": [
        "import numpy as np\n",
        "\n",
        "arr=np.array([1, 1, 0, 1, 1, 1,0,0,1,0,1,1,1,1])\n",
        "\n",
        "def max_consec_ones(arr):\n",
        "  result=0\n",
        "  sum=0\n",
        "\n",
        "  for i in range(len(arr)):\n",
        "    if(arr[i]==1):\n",
        "      sum=sum+1\n",
        "      result=max(result,sum)\n",
        "    elif(arr[i]==0):\n",
        "      sum=0\n",
        "  return result"
      ]
    },
    {
      "cell_type": "code",
      "source": [
        "max_consec_ones(arr)"
      ],
      "metadata": {
        "colab": {
          "base_uri": "https://localhost:8080/"
        },
        "id": "kL0VWgxJ7p66",
        "outputId": "8dadabc4-2753-4378-c364-d47e25545651"
      },
      "execution_count": 4,
      "outputs": [
        {
          "output_type": "execute_result",
          "data": {
            "text/plain": [
              "4"
            ]
          },
          "metadata": {},
          "execution_count": 4
        }
      ]
    },
    {
      "cell_type": "code",
      "source": [],
      "metadata": {
        "id": "h9dmv4mJ7snc"
      },
      "execution_count": null,
      "outputs": []
    }
  ]
}
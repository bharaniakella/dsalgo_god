{
  "nbformat": 4,
  "nbformat_minor": 0,
  "metadata": {
    "colab": {
      "provenance": [],
      "authorship_tag": "ABX9TyOrVzlREr2gJCZu0G6kr5lc",
      "include_colab_link": true
    },
    "kernelspec": {
      "name": "python3",
      "display_name": "Python 3"
    },
    "language_info": {
      "name": "python"
    }
  },
  "cells": [
    {
      "cell_type": "markdown",
      "metadata": {
        "id": "view-in-github",
        "colab_type": "text"
      },
      "source": [
        "<a href=\"https://colab.research.google.com/github/bharaniakella/dsalgo_god/blob/main/binary_search_iterative.ipynb\" target=\"_parent\"><img src=\"https://colab.research.google.com/assets/colab-badge.svg\" alt=\"Open In Colab\"/></a>"
      ]
    },
    {
      "cell_type": "code",
      "execution_count": 1,
      "metadata": {
        "id": "GNyYlBnTdM_B"
      },
      "outputs": [],
      "source": [
        "import numpy as np\n",
        "\n",
        "arr=np.array([10,20,30,40,50])\n",
        "\n",
        "def bin_search(arr,target):\n",
        "  start=0\n",
        "  end=len(arr)-1\n",
        "  while(start<=end):\n",
        "    mid=end-(end-start)//2\n",
        "\n",
        "    if(arr[mid]==target):\n",
        "      return mid\n",
        "    elif(arr[mid]<target):\n",
        "      start=mid+1\n",
        "    else:\n",
        "      end=mid-1\n",
        "  return -1"
      ]
    },
    {
      "cell_type": "code",
      "source": [
        "bin_search(arr,-8)"
      ],
      "metadata": {
        "colab": {
          "base_uri": "https://localhost:8080/"
        },
        "id": "G26PDpCud-e6",
        "outputId": "fb591ea8-ca13-4b73-bf99-e69aa75f55e7"
      },
      "execution_count": 5,
      "outputs": [
        {
          "output_type": "execute_result",
          "data": {
            "text/plain": [
              "-1"
            ]
          },
          "metadata": {},
          "execution_count": 5
        }
      ]
    },
    {
      "cell_type": "code",
      "source": [],
      "metadata": {
        "id": "PFC-cRT8eA9s"
      },
      "execution_count": null,
      "outputs": []
    }
  ]
}
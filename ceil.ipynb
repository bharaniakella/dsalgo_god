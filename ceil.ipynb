{
  "nbformat": 4,
  "nbformat_minor": 0,
  "metadata": {
    "colab": {
      "provenance": [],
      "authorship_tag": "ABX9TyO5jmIfPxcxP8kS3vELDR7y",
      "include_colab_link": true
    },
    "kernelspec": {
      "name": "python3",
      "display_name": "Python 3"
    },
    "language_info": {
      "name": "python"
    }
  },
  "cells": [
    {
      "cell_type": "markdown",
      "metadata": {
        "id": "view-in-github",
        "colab_type": "text"
      },
      "source": [
        "<a href=\"https://colab.research.google.com/github/bharaniakella/dsalgo_god/blob/main/ceil.ipynb\" target=\"_parent\"><img src=\"https://colab.research.google.com/assets/colab-badge.svg\" alt=\"Open In Colab\"/></a>"
      ]
    },
    {
      "cell_type": "code",
      "execution_count": 7,
      "metadata": {
        "id": "FjpwmO2QKpc4"
      },
      "outputs": [],
      "source": [
        "import numpy as np\n",
        "\n",
        "arr=np.array([3, 4, 4, 7, 8, 10])\n",
        "\n",
        "def ceil(arr,target):\n",
        "  start=0\n",
        "  end=len(arr)-1\n",
        "  result=-1\n",
        "  while(start<=end):\n",
        "    mid=end-(end-start)//2\n",
        "    if(arr[mid]>=target):\n",
        "      result=arr[mid]\n",
        "      end=mid-1\n",
        "    else:\n",
        "      start=mid+1\n",
        "  return result"
      ]
    },
    {
      "cell_type": "code",
      "source": [
        "ceil(arr,11)"
      ],
      "metadata": {
        "colab": {
          "base_uri": "https://localhost:8080/"
        },
        "id": "8QeQdSLgLGft",
        "outputId": "7b993202-cf9f-4d6c-e35d-0ddabe8408eb"
      },
      "execution_count": 8,
      "outputs": [
        {
          "output_type": "execute_result",
          "data": {
            "text/plain": [
              "-1"
            ]
          },
          "metadata": {},
          "execution_count": 8
        }
      ]
    },
    {
      "cell_type": "code",
      "source": [],
      "metadata": {
        "id": "F3NrcDsFLJNf"
      },
      "execution_count": null,
      "outputs": []
    }
  ]
}
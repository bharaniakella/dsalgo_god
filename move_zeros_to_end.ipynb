{
  "nbformat": 4,
  "nbformat_minor": 0,
  "metadata": {
    "colab": {
      "provenance": [],
      "authorship_tag": "ABX9TyO5CmhmYwdkkJLNrNJUVRjr",
      "include_colab_link": true
    },
    "kernelspec": {
      "name": "python3",
      "display_name": "Python 3"
    },
    "language_info": {
      "name": "python"
    }
  },
  "cells": [
    {
      "cell_type": "markdown",
      "metadata": {
        "id": "view-in-github",
        "colab_type": "text"
      },
      "source": [
        "<a href=\"https://colab.research.google.com/github/bharaniakella/dsalgo_god/blob/main/move_zeros_to_end.ipynb\" target=\"_parent\"><img src=\"https://colab.research.google.com/assets/colab-badge.svg\" alt=\"Open In Colab\"/></a>"
      ]
    },
    {
      "cell_type": "code",
      "execution_count": 3,
      "metadata": {
        "id": "54pWBxFnVQ0e"
      },
      "outputs": [],
      "source": [
        "import numpy as np\n",
        "\n",
        "arr=np.array([1,2,0,1,0,4,0])\n",
        "\n",
        "def move_zeros(arr):\n",
        "  i=0\n",
        "  while(i<len(arr)):\n",
        "    if(arr[i]==0):\n",
        "      break\n",
        "    i=i+1\n",
        "\n",
        "  z=i\n",
        "  p=z+1\n",
        "\n",
        "  while((z<len(arr)) & (p<len(arr))):\n",
        "    if(arr[p]!=0):\n",
        "      temp=arr[p]\n",
        "      arr[p]=arr[z]\n",
        "      arr[z]=temp\n",
        "\n",
        "      z=z+1\n",
        "    p=p+1\n",
        "\n",
        "  return arr\n",
        "\n"
      ]
    },
    {
      "cell_type": "code",
      "source": [
        "move_zeros(arr)"
      ],
      "metadata": {
        "colab": {
          "base_uri": "https://localhost:8080/"
        },
        "id": "oq7fv7tSWGRe",
        "outputId": "ed76e732-0ebb-436a-a79f-47b5b0d2ad41"
      },
      "execution_count": 4,
      "outputs": [
        {
          "output_type": "execute_result",
          "data": {
            "text/plain": [
              "array([1, 2, 1, 4, 0, 0, 0])"
            ]
          },
          "metadata": {},
          "execution_count": 4
        }
      ]
    },
    {
      "cell_type": "code",
      "source": [],
      "metadata": {
        "id": "Mk2bds7SWH42"
      },
      "execution_count": null,
      "outputs": []
    }
  ]
}
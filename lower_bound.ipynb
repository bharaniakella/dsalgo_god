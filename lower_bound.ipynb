{
  "nbformat": 4,
  "nbformat_minor": 0,
  "metadata": {
    "colab": {
      "provenance": [],
      "authorship_tag": "ABX9TyPOpWdTkp6hFJ6icGMskB25",
      "include_colab_link": true
    },
    "kernelspec": {
      "name": "python3",
      "display_name": "Python 3"
    },
    "language_info": {
      "name": "python"
    }
  },
  "cells": [
    {
      "cell_type": "markdown",
      "metadata": {
        "id": "view-in-github",
        "colab_type": "text"
      },
      "source": [
        "<a href=\"https://colab.research.google.com/github/bharaniakella/dsalgo_god/blob/main/lower_bound.ipynb\" target=\"_parent\"><img src=\"https://colab.research.google.com/assets/colab-badge.svg\" alt=\"Open In Colab\"/></a>"
      ]
    },
    {
      "cell_type": "code",
      "execution_count": 5,
      "metadata": {
        "id": "HtEi2svNhgr3"
      },
      "outputs": [],
      "source": [
        "import numpy as np\n",
        "\n",
        "arr=np.array([3,5,8,15,19])\n",
        "\n",
        "def lower_bound(arr,target):\n",
        "\n",
        "  start=0\n",
        "  end=len(arr)-1\n",
        "  result=len(arr)\n",
        "  while(start<=end):\n",
        "    mid=end-(end-start)//2\n",
        "    if(arr[mid]>=target):\n",
        "      result=mid\n",
        "      end=mid-1\n",
        "    else:\n",
        "      start=mid+1\n",
        "  return result"
      ]
    },
    {
      "cell_type": "code",
      "source": [
        "lower_bound(arr,20)"
      ],
      "metadata": {
        "colab": {
          "base_uri": "https://localhost:8080/"
        },
        "id": "Kk9fBjgpiGXu",
        "outputId": "9c58a3b5-ed80-4660-c024-709c1d9188d6"
      },
      "execution_count": 7,
      "outputs": [
        {
          "output_type": "execute_result",
          "data": {
            "text/plain": [
              "5"
            ]
          },
          "metadata": {},
          "execution_count": 7
        }
      ]
    },
    {
      "cell_type": "code",
      "source": [],
      "metadata": {
        "id": "JOG8ExWSiJOb"
      },
      "execution_count": null,
      "outputs": []
    }
  ]
}
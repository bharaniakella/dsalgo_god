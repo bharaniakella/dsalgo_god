{
  "nbformat": 4,
  "nbformat_minor": 0,
  "metadata": {
    "colab": {
      "provenance": [],
      "authorship_tag": "ABX9TyOoOL9kDwzvqncoaRpuZpv6",
      "include_colab_link": true
    },
    "kernelspec": {
      "name": "python3",
      "display_name": "Python 3"
    },
    "language_info": {
      "name": "python"
    }
  },
  "cells": [
    {
      "cell_type": "markdown",
      "metadata": {
        "id": "view-in-github",
        "colab_type": "text"
      },
      "source": [
        "<a href=\"https://colab.research.google.com/github/bharaniakella/dsalgo_god/blob/main/linear_search.ipynb\" target=\"_parent\"><img src=\"https://colab.research.google.com/assets/colab-badge.svg\" alt=\"Open In Colab\"/></a>"
      ]
    },
    {
      "cell_type": "code",
      "execution_count": 1,
      "metadata": {
        "id": "loXapD9mXhMs"
      },
      "outputs": [],
      "source": [
        "import numpy as np\n",
        "\n",
        "arr=np.array([4,2,8,5,1,6])\n",
        "\n",
        "def lin_search(arr,target):\n",
        "  for i in range(len(arr)):\n",
        "    if(arr[i]==target):\n",
        "      return i\n",
        "  return -1"
      ]
    },
    {
      "cell_type": "code",
      "source": [
        "lin_search(arr,1)"
      ],
      "metadata": {
        "colab": {
          "base_uri": "https://localhost:8080/"
        },
        "id": "n1Mx-C2DXz91",
        "outputId": "88da1364-6653-4ccc-a396-080206381643"
      },
      "execution_count": 6,
      "outputs": [
        {
          "output_type": "execute_result",
          "data": {
            "text/plain": [
              "4"
            ]
          },
          "metadata": {},
          "execution_count": 6
        }
      ]
    },
    {
      "cell_type": "code",
      "source": [],
      "metadata": {
        "id": "LZULFCWEX2N6"
      },
      "execution_count": null,
      "outputs": []
    }
  ]
}
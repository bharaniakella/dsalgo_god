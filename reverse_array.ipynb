{
  "nbformat": 4,
  "nbformat_minor": 0,
  "metadata": {
    "colab": {
      "provenance": [],
      "authorship_tag": "ABX9TyP86jngpgbBt+wIWcEGtllY",
      "include_colab_link": true
    },
    "kernelspec": {
      "name": "python3",
      "display_name": "Python 3"
    },
    "language_info": {
      "name": "python"
    }
  },
  "cells": [
    {
      "cell_type": "markdown",
      "metadata": {
        "id": "view-in-github",
        "colab_type": "text"
      },
      "source": [
        "<a href=\"https://colab.research.google.com/github/bharaniakella/dsalgo_god/blob/main/reverse_array.ipynb\" target=\"_parent\"><img src=\"https://colab.research.google.com/assets/colab-badge.svg\" alt=\"Open In Colab\"/></a>"
      ]
    },
    {
      "cell_type": "code",
      "execution_count": 3,
      "metadata": {
        "id": "Hfhb6FCnYYlC"
      },
      "outputs": [],
      "source": [
        "import numpy as np\n",
        "\n",
        "arr=np.array([1,2,3,4,5,6])\n",
        "\n",
        "def reverse_array(arr):\n",
        "  f=0\n",
        "  l=len(arr)-1\n",
        "  while(f<=l):\n",
        "    temp=arr[f]\n",
        "    arr[f]=arr[l]\n",
        "    arr[l]=temp\n",
        "    f=f+1\n",
        "    l=l-1\n",
        "  return arr"
      ]
    },
    {
      "cell_type": "code",
      "source": [
        "reverse_array(arr)"
      ],
      "metadata": {
        "colab": {
          "base_uri": "https://localhost:8080/"
        },
        "id": "y-x9CsUnYzkf",
        "outputId": "f8e7eb31-9ebf-4d24-f6aa-8e8f3f03b848"
      },
      "execution_count": 4,
      "outputs": [
        {
          "output_type": "execute_result",
          "data": {
            "text/plain": [
              "array([6, 5, 4, 3, 2, 1])"
            ]
          },
          "metadata": {},
          "execution_count": 4
        }
      ]
    },
    {
      "cell_type": "code",
      "source": [],
      "metadata": {
        "id": "aNLx-OPRY1X1"
      },
      "execution_count": null,
      "outputs": []
    }
  ]
}